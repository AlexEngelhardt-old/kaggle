{
 "cells": [
  {
   "cell_type": "code",
   "execution_count": 1,
   "metadata": {
    "collapsed": true
   },
   "outputs": [],
   "source": [
    "import numpy as np\n",
    "import pandas as pd\n",
    "from preprocess import preprocess  # local file. restart kernel if this changed, it won't be re-imported otherwise\n",
    "from sklearn.model_selection import train_test_split\n",
    "\n",
    "## Read the first few rows during crude developing:\n",
    "#train = pd.read_csv('../data/train.csv', nrows=10000).fillna(' ')  # train has 159571 comments\n",
    "#test = pd.read_csv('../data/test.csv', nrows=1000).fillna(' ')\n",
    "\n",
    "## These lines load all data:\n",
    "train = pd.read_csv('../data/train.csv').fillna(' ')\n",
    "test = pd.read_csv('../data/test.csv').fillna(' ')\n",
    "\n",
    "[train, test, train_text, test_text, all_text, class_names] = preprocess(train, test)\n",
    "\n",
    "# Remove 80% of the train set's comments that are all-ok to counter the imbalancedness a bit\n",
    "#delete_idx = (train[class_names].sum(axis = 1) == 0) & (np.random.rand(len(train)) > 0.2)\n",
    "#keep_idx = ~delete_idx  # elem-wise NOT for pd.Series\n",
    "#train = train[keep_idx]"
   ]
  },
  {
   "cell_type": "code",
   "execution_count": 2,
   "metadata": {
    "collapsed": true
   },
   "outputs": [],
   "source": [
    "# I want a fixed 5000 observations in the test set. Adapt the fraction accordingly:\n",
    "test_fraction = 5000 / len(train)\n",
    "\n",
    "train, dev = train_test_split(train, test_size=test_fraction, random_state=42)\n",
    "# Reset indices because they were shuffled and I need them from 0 to len()\n",
    "train.index = list(range(len(train)))\n",
    "dev.index = list(range(len(dev)))"
   ]
  },
  {
   "cell_type": "code",
   "execution_count": 3,
   "metadata": {
    "collapsed": true
   },
   "outputs": [],
   "source": [
    "# either:\n",
    "#max_len_train = train['comment_text'].str.split().apply(len).max()\n",
    "#max_len_test = test['comment_text'].str.split().apply(len).max()\n",
    "#max_len = max(max_len_train, max_len_test)\n",
    "\n",
    "# or:\n",
    "max_len = 250  # that might work to have shorter LSTM cells"
   ]
  },
  {
   "cell_type": "code",
   "execution_count": 15,
   "metadata": {
    "collapsed": true
   },
   "outputs": [],
   "source": [
    "from keras.models import Model\n",
    "from keras.layers import Dense, Input, Dropout, LSTM, GRU, Activation, Flatten, Conv1D, MaxPooling1D\n",
    "from keras.layers.embeddings import Embedding\n",
    "from keras.preprocessing import sequence\n",
    "from keras.initializers import glorot_uniform"
   ]
  },
  {
   "cell_type": "code",
   "execution_count": 5,
   "metadata": {
    "collapsed": true
   },
   "outputs": [],
   "source": [
    "## set number of cores to 8\n",
    "#from keras import backend as K\n",
    "#import tensorflow as tf\n",
    "\n",
    "#config = tf.ConfigProto(intra_op_parallelism_threads=8,\n",
    "#                        inter_op_parallelism_threads=8,\n",
    "#                        allow_soft_placement=True, \n",
    "#                        device_count = {'CPU': 8})\n",
    "#session = tf.Session(config=config)\n",
    "#K.set_session(session)"
   ]
  },
  {
   "cell_type": "code",
   "execution_count": 6,
   "metadata": {
    "collapsed": true
   },
   "outputs": [],
   "source": [
    "def read_glove_vecs(glove_file):\n",
    "    with open(glove_file, 'r') as f:\n",
    "        words = set()\n",
    "        word_to_vec_map = {}\n",
    "        for line in f:\n",
    "            line = line.strip().split()\n",
    "            curr_word = line[0]\n",
    "            words.add(curr_word)\n",
    "            word_to_vec_map[curr_word] = np.array(line[1:], dtype=np.float64)\n",
    "        \n",
    "        i = 1\n",
    "        words_to_index = {}\n",
    "        index_to_words = {}\n",
    "        for w in sorted(words):\n",
    "            words_to_index[w] = i\n",
    "            index_to_words[i] = w\n",
    "            i = i + 1\n",
    "    return words_to_index, index_to_words, word_to_vec_map"
   ]
  },
  {
   "cell_type": "code",
   "execution_count": 7,
   "metadata": {
    "collapsed": true
   },
   "outputs": [],
   "source": [
    "word_to_index, index_to_word, word_to_vec_map = read_glove_vecs('../data/glove.6B.50d.txt')"
   ]
  },
  {
   "cell_type": "code",
   "execution_count": 8,
   "metadata": {
    "collapsed": true
   },
   "outputs": [],
   "source": [
    "import re\n",
    "\n",
    "def sentences_to_indices(X, word_to_index, max_len):\n",
    "    \"\"\"\n",
    "    Converts an array of sentences (strings) into an array of indices corresponding to words in the sentences.\n",
    "    The output shape should be such that it can be given to `Embedding()` (described in Figure 4). \n",
    "    \n",
    "    Arguments:\n",
    "    X -- array of sentences (strings), of shape (m, 1)\n",
    "    word_to_index -- a dictionary containing the each word mapped to its index\n",
    "    max_len -- maximum number of words in a sentence. You can assume every sentence in X is no longer than this. \n",
    "    \n",
    "    Returns:\n",
    "    X_indices -- array of indices corresponding to words in the sentences from X, of shape (m, max_len)\n",
    "    \"\"\"\n",
    "    \n",
    "    m = X.shape[0]\n",
    "    X_indices = np.zeros((m, max_len))\n",
    "    \n",
    "    for i in range(m):\n",
    "        \n",
    "        # Convert the ith training sentence in lower case and split is into words. You should get a list of words.\n",
    "        sentence_words = re.sub(r\"\\W\", \" \", X[i]).lower().split()\n",
    "\n",
    "        n_words = len(sentence_words)\n",
    "        \n",
    "        if n_words > max_len:  # use the *beginning* of the comment if it's too long\n",
    "            sentence_words = sentence_words[0:max_len]\n",
    "            n_words = max_len\n",
    "\n",
    "        ctr = 0\n",
    "        \n",
    "        for w in sentence_words:\n",
    "            j = max_len - n_words + ctr \n",
    "            \n",
    "            if w in word_to_index:\n",
    "                # pad sequences from the left, i.e. start so the \"last\" word in the comment is the max_len'th entry.\n",
    "                X_indices[i, j] = word_to_index[w]\n",
    "                \n",
    "            ctr += 1\n",
    "            \n",
    "            if j >= max_len:  \n",
    "                # adding this clause, you can have sentences longer than max_len and crop them\n",
    "                break\n",
    "    \n",
    "    return X_indices"
   ]
  },
  {
   "cell_type": "code",
   "execution_count": null,
   "metadata": {
    "collapsed": true
   },
   "outputs": [],
   "source": [
    "X_train_indices = sentences_to_indices(train['comment_text'], word_to_index, max_len)\n",
    "Y_train = train[class_names].values\n",
    "X_dev_indices = sentences_to_indices(dev['comment_text'], word_to_index, max_len)\n",
    "Y_dev = dev[class_names].values"
   ]
  },
  {
   "cell_type": "code",
   "execution_count": 9,
   "metadata": {
    "collapsed": true
   },
   "outputs": [],
   "source": [
    "def pretrained_embedding_layer(word_to_vec_map, word_to_index):\n",
    "    \"\"\"\n",
    "    Creates a Keras Embedding() layer and loads in pre-trained GloVe 50-dimensional vectors.\n",
    "    \n",
    "    Arguments:\n",
    "    word_to_vec_map -- dictionary mapping words to their GloVe vector representation.\n",
    "    word_to_index -- dictionary mapping from words to their indices in the vocabulary (400,001 words)\n",
    "\n",
    "    Returns:\n",
    "    embedding_layer -- pretrained layer Keras instance\n",
    "    \"\"\"\n",
    "    \n",
    "    vocab_len = len(word_to_index) + 1                  # adding 1 to fit Keras embedding (requirement)\n",
    "    emb_dim = word_to_vec_map[\"cucumber\"].shape[0]      # define dimensionality of your GloVe word vectors (= 50)\n",
    "    \n",
    "    # Initialize the embedding matrix as a numpy array of zeros of shape (vocab_len, dimensions of word vectors = emb_dim)\n",
    "    emb_matrix = np.zeros((vocab_len, emb_dim))\n",
    "    \n",
    "    # Set each row \"index\" of the embedding matrix to be the word vector representation of the \"index\"th word of the vocabulary\n",
    "    for word, index in word_to_index.items():\n",
    "        emb_matrix[index, :] = word_to_vec_map[word]\n",
    "\n",
    "    # Define Keras embedding layer with the correct output/input sizes, make it trainable. Use Embedding(...). Make sure to set trainable=False. \n",
    "    embedding_layer = Embedding(vocab_len, emb_dim, trainable = False)#, mask_zero = True)\n",
    "\n",
    "    # Build the embedding layer, it is required before setting the weights of the embedding layer. Do not modify the \"None\".\n",
    "    embedding_layer.build((None,))\n",
    "    \n",
    "    # Set the weights of the embedding layer to the embedding matrix. Your layer is now pretrained.\n",
    "    embedding_layer.set_weights([emb_matrix])\n",
    "    \n",
    "    return embedding_layer"
   ]
  },
  {
   "cell_type": "code",
   "execution_count": 10,
   "metadata": {
    "collapsed": true
   },
   "outputs": [],
   "source": [
    "embedding_layer = pretrained_embedding_layer(word_to_vec_map, word_to_index)"
   ]
  },
  {
   "cell_type": "code",
   "execution_count": 54,
   "metadata": {
    "collapsed": true
   },
   "outputs": [],
   "source": [
    "def myModel(input_shape, word_to_vec_map, word_to_index):\n",
    "    \"\"\"\n",
    "    Function creating the Emojify-v2 model's graph.\n",
    "    \n",
    "    Arguments:\n",
    "    input_shape -- shape of the input, usually (max_len,)\n",
    "    word_to_vec_map -- dictionary mapping every word in a vocabulary into its 50-dimensional vector representation\n",
    "    word_to_index -- dictionary mapping from words to their indices in the vocabulary (400,001 words)\n",
    "\n",
    "    Returns:\n",
    "    model -- a model instance in Keras\n",
    "    \"\"\"\n",
    "    \n",
    "    # Define sentence_indices as the input of the graph, it should be of shape input_shape and dtype 'int32' (as it contains indices).\n",
    "    sentence_indices = Input(shape = input_shape, dtype = 'int32')\n",
    "    \n",
    "    # Create the embedding layer pretrained with GloVe Vectors (≈1 line)\n",
    "    #embedding_layer = pretrained_embedding_layer(word_to_vec_map, word_to_index)\n",
    "    \n",
    "    # Propagate sentence_indices through your embedding layer, you get back the embeddings\n",
    "    X = embedding_layer(sentence_indices)   \n",
    "    \n",
    "    X = Conv1D(8, 5, activation = 'relu')(X)\n",
    "    X = MaxPooling1D(5)(X)\n",
    "    X = Dropout(0.2)(X)\n",
    "    X = Conv1D(32, 5, activation = 'relu')(X)\n",
    "    X = MaxPooling1D(5)(X)\n",
    "    X = Dropout(0.2)(X)\n",
    "    X = Flatten()(X)\n",
    "    # Propagate X through a Dense layer with softmax activation to get back a batch of 5-dimensional vectors.\n",
    "    X = Dense(units = 6, activation = 'sigmoid')(X)\n",
    "    \n",
    "    # Create Model instance which converts sentence_indices into X.\n",
    "    model = Model(inputs = sentence_indices, outputs = X)\n",
    "    \n",
    "    return model"
   ]
  },
  {
   "cell_type": "code",
   "execution_count": 55,
   "metadata": {},
   "outputs": [
    {
     "name": "stdout",
     "output_type": "stream",
     "text": [
      "_________________________________________________________________\n",
      "Layer (type)                 Output Shape              Param #   \n",
      "=================================================================\n",
      "input_7 (InputLayer)         (None, 250)               0         \n",
      "_________________________________________________________________\n",
      "embedding_1 (Embedding)      (None, 250, 50)           20000050  \n",
      "_________________________________________________________________\n",
      "conv1d_9 (Conv1D)            (None, 246, 8)            2008      \n",
      "_________________________________________________________________\n",
      "max_pooling1d_8 (MaxPooling1 (None, 49, 8)             0         \n",
      "_________________________________________________________________\n",
      "dropout_3 (Dropout)          (None, 49, 8)             0         \n",
      "_________________________________________________________________\n",
      "conv1d_10 (Conv1D)           (None, 45, 32)            1312      \n",
      "_________________________________________________________________\n",
      "max_pooling1d_9 (MaxPooling1 (None, 9, 32)             0         \n",
      "_________________________________________________________________\n",
      "dropout_4 (Dropout)          (None, 9, 32)             0         \n",
      "_________________________________________________________________\n",
      "flatten_4 (Flatten)          (None, 288)               0         \n",
      "_________________________________________________________________\n",
      "dense_4 (Dense)              (None, 6)                 1734      \n",
      "=================================================================\n",
      "Total params: 20,005,104\n",
      "Trainable params: 5,054\n",
      "Non-trainable params: 20,000,050\n",
      "_________________________________________________________________\n"
     ]
    }
   ],
   "source": [
    "model = myModel((max_len,), word_to_vec_map, word_to_index)\n",
    "model.summary()"
   ]
  },
  {
   "cell_type": "markdown",
   "metadata": {},
   "source": [
    "## Waarschuwing\n",
    "\n",
    "If you pad your sequences from the right instead the left, the model outputs same predictions for each sample!\n",
    "\n",
    "There might be a vanishing gradients problem?"
   ]
  },
  {
   "cell_type": "code",
   "execution_count": 57,
   "metadata": {
    "collapsed": true,
    "scrolled": true
   },
   "outputs": [],
   "source": [
    "# # their tokenizer (creates its own indices though, that don't fit with the GloVe embedding)\n",
    "\n",
    "# from keras.preprocessing.text import Tokenizer\n",
    "# from keras.preprocessing.sequence import pad_sequences\n",
    "\n",
    "\n",
    "# #max_features = 20000\n",
    "# max_features = 400000\n",
    "\n",
    "# tokenizer = Tokenizer(num_words=max_features)\n",
    "# tokenizer.fit_on_texts(list(train['comment_text']))\n",
    "# list_tokenized_train = tokenizer.texts_to_sequences(train['comment_text'])\n",
    "# list_tokenized_test = tokenizer.texts_to_sequences(test['comment_text'])\n",
    "# maxlen = 200\n",
    "# X_train_indices = pad_sequences(list_tokenized_train, maxlen=maxlen, padding = 'pre')\n",
    "# X_test_indices = pad_sequences(list_tokenized_test, maxlen=maxlen)\n",
    "\n",
    "# X_train_indices[0]"
   ]
  },
  {
   "cell_type": "code",
   "execution_count": 58,
   "metadata": {
    "collapsed": true
   },
   "outputs": [],
   "source": [
    "#from keras import optimizers\n",
    "#adam_gradclip = optimizers.Adam(clipnorm = 1, clipvalue = 0.5)"
   ]
  },
  {
   "cell_type": "code",
   "execution_count": 59,
   "metadata": {
    "collapsed": true
   },
   "outputs": [],
   "source": [
    "# model.compile(loss = 'categorical_crossentropy', optimizer='adam', metrics=['accuracy'])\n",
    "model.compile(loss='binary_crossentropy', optimizer='adam', metrics=['accuracy'])"
   ]
  },
  {
   "cell_type": "code",
   "execution_count": 60,
   "metadata": {
    "collapsed": true
   },
   "outputs": [],
   "source": [
    "# if you want to save a model's configuration and weights, and train it further tomorrow:\n",
    "\n",
    "#from keras.models import load_model\n",
    "#model = load_model(\"07-model-cnn.h5\")"
   ]
  },
  {
   "cell_type": "code",
   "execution_count": 61,
   "metadata": {
    "collapsed": true
   },
   "outputs": [],
   "source": [
    "import matplotlib.pyplot as plt"
   ]
  },
  {
   "cell_type": "code",
   "execution_count": 76,
   "metadata": {},
   "outputs": [
    {
     "name": "stdout",
     "output_type": "stream",
     "text": [
      "Train on 154571 samples, validate on 5000 samples\n",
      "Epoch 1/1\n",
      "154571/154571 [==============================] - 266s 2ms/step - loss: 0.0752 - acc: 0.9748 - val_loss: 0.0733 - val_acc: 0.9761\n"
     ]
    }
   ],
   "source": [
    "history = model.fit(X_train_indices, Y_train, epochs = 1, batch_size = 32, shuffle=True,\n",
    "                   validation_data = (X_dev_indices, Y_dev))\n",
    "model.save(\"07-model-cnn.h5\")"
   ]
  },
  {
   "cell_type": "code",
   "execution_count": 77,
   "metadata": {},
   "outputs": [
    {
     "data": {
      "image/png": "[encoded data removed]",
      "text/plain": [
       "<Figure size 432x288 with 1 Axes>"
      ]
     },
     "metadata": {},
     "output_type": "display_data"
    }
   ],
   "source": [
    "plt.plot(history.history['loss'])\n",
    "plt.plot(history.history['val_loss'])\n",
    "plt.title('model loss')\n",
    "plt.ylabel('loss')\n",
    "plt.xlabel('epoch')\n",
    "plt.legend(['train', 'test'], loc='upper left')\n",
    "plt.show()"
   ]
  },
  {
   "cell_type": "code",
   "execution_count": 78,
   "metadata": {},
   "outputs": [
    {
     "data": {
      "text/plain": [
       "0.9530727938506051"
      ]
     },
     "execution_count": 78,
     "metadata": {},
     "output_type": "execute_result"
    }
   ],
   "source": [
    "from sklearn import metrics\n",
    "\n",
    "m = 5000\n",
    "\n",
    "pred_train = model.predict(X_train_indices[0:m, :])  # train performance on first 5k samples only...\n",
    "aucs = np.zeros((len(class_names)))\n",
    "\n",
    "for y_i in range(len(class_names)):\n",
    "    y = Y_train[0:m, y_i]\n",
    "    yhat = pred_train[0:m, y_i]\n",
    "    fpr, tpr, thresholds = metrics.roc_curve(y, yhat, pos_label = 1)\n",
    "    this_auc = metrics.auc(fpr, tpr)\n",
    "    aucs[y_i] = this_auc\n",
    "    \n",
    "np.mean(aucs)"
   ]
  },
  {
   "cell_type": "markdown",
   "metadata": {},
   "source": [
    "Full run:\n",
    "\n",
    "- 10 epochs w/ dropout: 0.9804661203849432"
   ]
  },
  {
   "cell_type": "markdown",
   "metadata": {},
   "source": [
    "# Compute dev set mean AUC"
   ]
  },
  {
   "cell_type": "code",
   "execution_count": 79,
   "metadata": {},
   "outputs": [
    {
     "name": "stdout",
     "output_type": "stream",
     "text": [
      "CPU times: user 4.67 s, sys: 1.58 s, total: 6.26 s\n",
      "Wall time: 2.63 s\n"
     ]
    }
   ],
   "source": [
    "%%time\n",
    "\n",
    "# model.evaluate(X_dev_indices, Y_dev, batch_size = len(train))\n",
    "pred_dev = model.predict(X_dev_indices)"
   ]
  },
  {
   "cell_type": "code",
   "execution_count": 80,
   "metadata": {},
   "outputs": [
    {
     "data": {
      "text/plain": [
       "0.9314876016565482"
      ]
     },
     "execution_count": 80,
     "metadata": {},
     "output_type": "execute_result"
    }
   ],
   "source": [
    "aucs = np.zeros((len(class_names)))\n",
    "\n",
    "for y_i in range(len(class_names)):\n",
    "    y = Y_dev[:, y_i]\n",
    "    yhat = pred_dev[:, y_i]\n",
    "    fpr, tpr, thresholds = metrics.roc_curve(y, yhat, pos_label = 1)\n",
    "    this_auc = metrics.auc(fpr, tpr)\n",
    "    aucs[y_i] = this_auc\n",
    "    \n",
    "np.mean(aucs)"
   ]
  },
  {
   "cell_type": "markdown",
   "metadata": {},
   "source": [
    "Full run:\n",
    "\n",
    "- 10 epochs with dropout: 0.937659986918144"
   ]
  },
  {
   "cell_type": "markdown",
   "metadata": {},
   "source": [
    "# Sanity check train predictions"
   ]
  },
  {
   "cell_type": "code",
   "execution_count": 25,
   "metadata": {
    "collapsed": true
   },
   "outputs": [],
   "source": [
    "pred = model.predict(X_train_indices[0:7, :])  # the 7th comment (in unshuffled train) is a very toxic doggo"
   ]
  },
  {
   "cell_type": "code",
   "execution_count": 26,
   "metadata": {},
   "outputs": [
    {
     "data": {
      "text/plain": [
       "array([[6.3497241e-04, 1.4876262e-09, 3.9197319e-05, 6.5515977e-08,\n",
       "        3.1774027e-05, 7.7998777e-07],\n",
       "       [1.3203488e-03, 1.2483348e-09, 5.7818586e-05, 4.6398277e-08,\n",
       "        4.8434984e-05, 1.0442246e-06],\n",
       "       [6.1643816e-04, 3.1910000e-10, 1.8953759e-05, 7.3298008e-09,\n",
       "        1.7444301e-05, 2.0307276e-07],\n",
       "       [5.0278148e-04, 3.2158740e-10, 1.5368229e-05, 1.2597208e-08,\n",
       "        1.2031453e-05, 1.9660762e-07],\n",
       "       [1.0031880e-01, 2.6487714e-05, 1.6511204e-02, 1.2358227e-04,\n",
       "        1.4168523e-02, 9.5172826e-04],\n",
       "       [6.9022202e-04, 7.9367757e-10, 2.7619690e-05, 2.4291433e-08,\n",
       "        2.0929217e-05, 3.7219368e-07],\n",
       "       [9.2507827e-01, 2.0645539e-01, 7.3372906e-01, 8.5256480e-02,\n",
       "        6.2058413e-01, 2.2601873e-01]], dtype=float32)"
      ]
     },
     "execution_count": 26,
     "metadata": {},
     "output_type": "execute_result"
    }
   ],
   "source": [
    "pred"
   ]
  },
  {
   "cell_type": "markdown",
   "metadata": {},
   "source": [
    "# Create submission csv"
   ]
  },
  {
   "cell_type": "code",
   "execution_count": 26,
   "metadata": {
    "collapsed": true
   },
   "outputs": [],
   "source": [
    "X_test_indices = sentences_to_indices(test['comment_text'], word_to_index, max_len)\n",
    "pred = model.predict(X_test_indices)\n",
    "submit = pd.DataFrame(test['id'].values, columns=['id'])\n",
    "preds = pd.DataFrame(pred, columns=class_names)\n",
    "submit = pd.concat([submit, preds], axis = 1)\n",
    "#submit\n",
    "submit.to_csv('../data/submission_07_cnn.csv', index = False)"
   ]
  },
  {
   "cell_type": "code",
   "execution_count": null,
   "metadata": {
    "collapsed": true
   },
   "outputs": [],
   "source": []
  }
 ],
 "metadata": {
  "kernelspec": {
   "display_name": "Python 3",
   "language": "python",
   "name": "python3"
  },
  "language_info": {
   "codemirror_mode": {
    "name": "ipython",
    "version": 3
   },
   "file_extension": ".py",
   "mimetype": "text/x-python",
   "name": "python",
   "nbconvert_exporter": "python",
   "pygments_lexer": "ipython3",
   "version": "3.6.4"
  }
 },
 "nbformat": 4,
 "nbformat_minor": 2
}
