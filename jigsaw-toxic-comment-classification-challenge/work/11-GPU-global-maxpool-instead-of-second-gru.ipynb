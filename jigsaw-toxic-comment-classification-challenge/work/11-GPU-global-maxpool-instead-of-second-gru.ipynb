{
 "cells": [
  {
   "cell_type": "code",
   "execution_count": 2,
   "metadata": {},
   "outputs": [
    {
     "data": {
      "text/plain": [
       "7"
      ]
     },
     "execution_count": 2,
     "metadata": {},
     "output_type": "execute_result"
    }
   ],
   "source": [
    "3 + 4"
   ]
  },
  {
   "cell_type": "code",
   "execution_count": 3,
   "metadata": {},
   "outputs": [],
   "source": [
    "import numpy as np\n",
    "import pandas as pd\n",
    "from preprocess import preprocess  # local file. restart kernel if this changed, it won't be re-imported otherwise\n",
    "from sklearn.model_selection import train_test_split\n",
    "\n",
    "## Read the first few rows during crude developing:\n",
    "#train = pd.read_csv('../data/train.csv', nrows=50000).fillna(' ')  # train has 159571 comments\n",
    "#test = pd.read_csv('../data/test.csv', nrows=5000).fillna(' ')\n",
    "\n",
    "## These lines load all data:\n",
    "train = pd.read_csv('../data/train.csv').fillna(' ')\n",
    "test = pd.read_csv('../data/test.csv').fillna(' ')\n",
    "\n",
    "[train, test, train_text, test_text, all_text, class_names] = preprocess(train, test)\n",
    "\n",
    "# Remove 80% of the train set's comments that are all-ok to counter the imbalancedness a bit\n",
    "#delete_idx = (train[class_names].sum(axis = 1) == 0) & (np.random.rand(len(train)) > 0.2)\n",
    "#keep_idx = ~delete_idx  # elem-wise NOT for pd.Series\n",
    "#train = train[keep_idx]"
   ]
  },
  {
   "cell_type": "code",
   "execution_count": 4,
   "metadata": {},
   "outputs": [],
   "source": [
    "# I want a fixed 5000 observations in the test set. Adapt the fraction accordingly:\n",
    "test_fraction = 5000 / len(train)\n",
    "\n",
    "train, dev = train_test_split(train, test_size=test_fraction, random_state=42)\n",
    "# Reset indices because they were shuffled and I need them from 0 to len()\n",
    "train.index = list(range(len(train)))\n",
    "dev.index = list(range(len(dev)))"
   ]
  },
  {
   "cell_type": "code",
   "execution_count": 5,
   "metadata": {},
   "outputs": [],
   "source": [
    "# either:\n",
    "#max_len_train = train['comment_text'].str.split().apply(len).max()\n",
    "#max_len_test = test['comment_text'].str.split().apply(len).max()\n",
    "#max_len = max(max_len_train, max_len_test)\n",
    "\n",
    "# or:\n",
    "max_len = 200  # that might work to have shorter LSTM cells"
   ]
  },
  {
   "cell_type": "markdown",
   "metadata": {},
   "source": [
    "## Verify you're using GPU"
   ]
  },
  {
   "cell_type": "markdown",
   "metadata": {},
   "source": [
    "(also enter `nvidia-smi` in the shell to see a `top`-like GPU usage summary)"
   ]
  },
  {
   "cell_type": "code",
   "execution_count": 6,
   "metadata": {},
   "outputs": [
    {
     "name": "stderr",
     "output_type": "stream",
     "text": [
      "/usr/local/lib/python3.5/dist-packages/h5py/__init__.py:36: FutureWarning: Conversion of the second argument of issubdtype from `float` to `np.floating` is deprecated. In future, it will be treated as `np.float64 == np.dtype(float).type`.\n",
      "  from ._conv import register_converters as _register_converters\n"
     ]
    },
    {
     "name": "stdout",
     "output_type": "stream",
     "text": [
      "[name: \"/device:CPU:0\"\n",
      "device_type: \"CPU\"\n",
      "memory_limit: 268435456\n",
      "locality {\n",
      "}\n",
      "incarnation: 4946876026808567605\n",
      ", name: \"/device:GPU:0\"\n",
      "device_type: \"GPU\"\n",
      "memory_limit: 11288277812\n",
      "locality {\n",
      "  bus_id: 1\n",
      "}\n",
      "incarnation: 175892099359653336\n",
      "physical_device_desc: \"device: 0, name: Tesla K80, pci bus id: 0000:00:1e.0, compute capability: 3.7\"\n",
      "]\n"
     ]
    }
   ],
   "source": [
    "from tensorflow.python.client import device_lib\n",
    "print(device_lib.list_local_devices())"
   ]
  },
  {
   "cell_type": "code",
   "execution_count": 7,
   "metadata": {},
   "outputs": [
    {
     "name": "stdout",
     "output_type": "stream",
     "text": [
      "[[22. 28.]\n",
      " [49. 64.]]\n"
     ]
    }
   ],
   "source": [
    "import tensorflow as tf\n",
    "with tf.device('/gpu:0'):\n",
    "    a = tf.constant([1.0, 2.0, 3.0, 4.0, 5.0, 6.0], shape=[2, 3], name='a')\n",
    "    b = tf.constant([1.0, 2.0, 3.0, 4.0, 5.0, 6.0], shape=[3, 2], name='b')\n",
    "    c = tf.matmul(a, b)\n",
    "\n",
    "with tf.Session() as sess:\n",
    "    print (sess.run(c))"
   ]
  },
  {
   "cell_type": "code",
   "execution_count": 8,
   "metadata": {
    "scrolled": true
   },
   "outputs": [],
   "source": [
    "# this took ages!\n",
    "#import tensorflow as tf\n",
    "#sess = tf.Session(config=tf.ConfigProto(log_device_placement=True))"
   ]
  },
  {
   "cell_type": "markdown",
   "metadata": {},
   "source": [
    "## Proceed"
   ]
  },
  {
   "cell_type": "code",
   "execution_count": 9,
   "metadata": {},
   "outputs": [
    {
     "name": "stderr",
     "output_type": "stream",
     "text": [
      "Using TensorFlow backend.\n"
     ]
    }
   ],
   "source": [
    "from keras.models import Model\n",
    "from keras.layers import Dense, Input, Dropout, LSTM, GRU, Activation, Bidirectional, GlobalMaxPooling1D, GlobalAveragePooling1D, concatenate\n",
    "from keras.layers.embeddings import Embedding\n",
    "from keras.preprocessing import sequence\n",
    "from keras.initializers import glorot_uniform"
   ]
  },
  {
   "cell_type": "code",
   "execution_count": 10,
   "metadata": {},
   "outputs": [],
   "source": [
    "def read_glove_vecs(glove_file):\n",
    "    with open(glove_file, 'r') as f:\n",
    "        words = set()\n",
    "        word_to_vec_map = {}\n",
    "        for line in f:\n",
    "            line = line.strip().split()\n",
    "            curr_word = line[0]\n",
    "            words.add(curr_word)\n",
    "            word_to_vec_map[curr_word] = np.array(line[1:], dtype=np.float64)\n",
    "        \n",
    "        i = 1\n",
    "        words_to_index = {}\n",
    "        index_to_words = {}\n",
    "        for w in sorted(words):\n",
    "            words_to_index[w] = i\n",
    "            index_to_words[i] = w\n",
    "            i = i + 1\n",
    "    return words_to_index, index_to_words, word_to_vec_map"
   ]
  },
  {
   "cell_type": "code",
   "execution_count": 11,
   "metadata": {},
   "outputs": [],
   "source": [
    "word_to_index, index_to_word, word_to_vec_map = read_glove_vecs('../data/glove.6B.100d.txt')"
   ]
  },
  {
   "cell_type": "code",
   "execution_count": 12,
   "metadata": {},
   "outputs": [],
   "source": [
    "import re\n",
    "\n",
    "def sentences_to_indices(X, word_to_index, max_len):\n",
    "    \"\"\"\n",
    "    Converts an array of sentences (strings) into an array of indices corresponding to words in the sentences.\n",
    "    The output shape should be such that it can be given to `Embedding()` (described in Figure 4). \n",
    "    \n",
    "    Arguments:\n",
    "    X -- array of sentences (strings), of shape (m, 1)\n",
    "    word_to_index -- a dictionary containing the each word mapped to its index\n",
    "    max_len -- maximum number of words in a sentence. You can assume every sentence in X is no longer than this. \n",
    "    \n",
    "    Returns:\n",
    "    X_indices -- array of indices corresponding to words in the sentences from X, of shape (m, max_len)\n",
    "    \"\"\"\n",
    "    \n",
    "    m = X.shape[0]\n",
    "\n",
    "    X_indices = np.zeros((m, max_len))\n",
    "    \n",
    "    for i in range(m):\n",
    "        \n",
    "        # Convert the ith training sentence in lower case and split is into words. You get a list of words.\n",
    "        sentence_words = re.sub(r\"\\W\", \" \", X[i]).lower().split()\n",
    "\n",
    "        n_words = len(sentence_words)\n",
    "        \n",
    "        if n_words > max_len:  # use the *beginning* of the comment if it's too long\n",
    "            sentence_words = sentence_words[0:max_len]\n",
    "            n_words = max_len\n",
    "\n",
    "        ctr = 0\n",
    "        # Loop over the words of sentence_words\n",
    "        for w in sentence_words:\n",
    "            j = max_len - n_words + ctr \n",
    "            \n",
    "            if w in word_to_index:\n",
    "                # pad sequences from the left, i.e. start so the \"last\" word in the comment is the max_len'th entry.\n",
    "                X_indices[i, j] = word_to_index[w]\n",
    "                \n",
    "            ctr += 1\n",
    "            \n",
    "            if j >= max_len:  \n",
    "                # adding this clause, you can have sentences longer than max_len and crop them\n",
    "                break\n",
    "            \n",
    "    return X_indices"
   ]
  },
  {
   "cell_type": "code",
   "execution_count": 13,
   "metadata": {},
   "outputs": [],
   "source": [
    "def pretrained_embedding_layer(word_to_vec_map, word_to_index):\n",
    "    \"\"\"\n",
    "    Creates a Keras Embedding() layer and loads in pre-trained GloVe 50-dimensional vectors.\n",
    "    \n",
    "    Arguments:\n",
    "    word_to_vec_map -- dictionary mapping words to their GloVe vector representation.\n",
    "    word_to_index -- dictionary mapping from words to their indices in the vocabulary (400,001 words)\n",
    "\n",
    "    Returns:\n",
    "    embedding_layer -- pretrained layer Keras instance\n",
    "    \"\"\"\n",
    "    \n",
    "    vocab_len = len(word_to_index) + 1                  # adding 1 to fit Keras embedding (requirement)\n",
    "    emb_dim = word_to_vec_map[\"cucumber\"].shape[0]      # define dimensionality of your GloVe word vectors (e.g. 50)\n",
    "    \n",
    "    # Initialize the embedding matrix as a numpy array of zeros of shape (vocab_len, dimensions of word vectors = emb_dim)\n",
    "    emb_matrix = np.zeros((vocab_len, emb_dim))\n",
    "    \n",
    "    # Set each row \"index\" of the embedding matrix to be the word vector representation of the \"index\"th word of the vocabulary\n",
    "    for word, index in word_to_index.items():\n",
    "        emb_matrix[index, :] = word_to_vec_map[word]\n",
    "\n",
    "    # Define Keras embedding layer with the correct output/input sizes, make it trainable. Use Embedding(...). Make sure to set trainable=False. \n",
    "    embedding_layer = Embedding(vocab_len, emb_dim, trainable = False)#, mask_zero = True)\n",
    "\n",
    "    # Build the embedding layer, it is required before setting the weights of the embedding layer. Do not modify the \"None\".\n",
    "    embedding_layer.build((None,))\n",
    "    \n",
    "    # Set the weights of the embedding layer to the embedding matrix. Your layer is now pretrained.\n",
    "    embedding_layer.set_weights([emb_matrix])\n",
    "    \n",
    "    return embedding_layer"
   ]
  },
  {
   "cell_type": "code",
   "execution_count": 14,
   "metadata": {},
   "outputs": [],
   "source": [
    "def myModel(input_shape, word_to_vec_map, word_to_index):\n",
    "    \"\"\"\n",
    "    Function creating the Emojify-v2 model's graph.\n",
    "    \n",
    "    Arguments:\n",
    "    input_shape -- shape of the input, usually (max_len,)\n",
    "    word_to_vec_map -- dictionary mapping every word in a vocabulary into its 50-dimensional vector representation\n",
    "    word_to_index -- dictionary mapping from words to their indices in the vocabulary (400,001 words)\n",
    "\n",
    "    Returns:\n",
    "    model -- a model instance in Keras\n",
    "    \"\"\"\n",
    "    \n",
    "    # Define sentence_indices as the input of the graph, it should be of shape input_shape and dtype 'int32' (as it contains indices).\n",
    "    sentence_indices = Input(shape = input_shape, dtype = 'int32')\n",
    "    \n",
    "    # Create the embedding layer pretrained with GloVe Vectors (≈1 line)\n",
    "    embedding_layer = pretrained_embedding_layer(word_to_vec_map, word_to_index)\n",
    "    \n",
    "    # Propagate sentence_indices through your embedding layer, you get back the embeddings\n",
    "    X = embedding_layer(sentence_indices)   \n",
    "\n",
    "    # Propagate the embeddings through an LSTM layer with 128-dimensional hidden state\n",
    "    # Be careful, the returned output should be a batch of sequences.\n",
    "    #X = LSTM(units = 64, return_sequences = True)(X)\n",
    "    X = Bidirectional(GRU(units = 32, activation = 'relu', return_sequences = True, \n",
    "                          dropout = 0.25, recurrent_dropout = 0.25))(X)\n",
    "    X_max = GlobalMaxPooling1D()(X)\n",
    "    X_avg = GlobalAveragePooling1D()(X)\n",
    "    X = concatenate([X_max, X_avg])\n",
    "    X = Dense(50, activation = 'relu')(X)\n",
    "    # Add dropout with a probability of 0.5\n",
    "    X = Dropout(rate = 0.25)(X)\n",
    "    # Propagate X trough another LSTM layer with 128-dimensional hidden state\n",
    "    # Be careful, the returned output should be a single hidden state, not a batch of sequences.\n",
    "    #X = LSTM(units = 64)(X)\n",
    "    #X = GRU(units = 64, activation = 'relu')(X)\n",
    "    # Add dropout with a probability of 0.5\n",
    "    #X = Dropout(rate = 0.5)(X)\n",
    "    # Propagate X through a Dense layer with softmax activation to get back a batch of 5-dimensional vectors.\n",
    "    X = Dense(units = 6, activation = 'sigmoid')(X)\n",
    "    # Add a softmax activation\n",
    "    #X = Activation(\"softmax\")(X)\n",
    "    \n",
    "    # Create Model instance which converts sentence_indices into X.\n",
    "    model = Model(inputs = sentence_indices, outputs = X)\n",
    "    \n",
    "    return model"
   ]
  },
  {
   "cell_type": "code",
   "execution_count": 15,
   "metadata": {},
   "outputs": [
    {
     "name": "stdout",
     "output_type": "stream",
     "text": [
      "__________________________________________________________________________________________________\n",
      "Layer (type)                    Output Shape         Param #     Connected to                     \n",
      "==================================================================================================\n",
      "input_1 (InputLayer)            (None, 200)          0                                            \n",
      "__________________________________________________________________________________________________\n",
      "embedding_1 (Embedding)         (None, 200, 100)     40000100    input_1[0][0]                    \n",
      "__________________________________________________________________________________________________\n",
      "bidirectional_1 (Bidirectional) (None, 200, 64)      25536       embedding_1[0][0]                \n",
      "__________________________________________________________________________________________________\n",
      "global_max_pooling1d_1 (GlobalM (None, 64)           0           bidirectional_1[0][0]            \n",
      "__________________________________________________________________________________________________\n",
      "global_average_pooling1d_1 (Glo (None, 64)           0           bidirectional_1[0][0]            \n",
      "__________________________________________________________________________________________________\n",
      "concatenate_1 (Concatenate)     (None, 128)          0           global_max_pooling1d_1[0][0]     \n",
      "                                                                 global_average_pooling1d_1[0][0] \n",
      "__________________________________________________________________________________________________\n",
      "dense_1 (Dense)                 (None, 50)           6450        concatenate_1[0][0]              \n",
      "__________________________________________________________________________________________________\n",
      "dropout_1 (Dropout)             (None, 50)           0           dense_1[0][0]                    \n",
      "__________________________________________________________________________________________________\n",
      "dense_2 (Dense)                 (None, 6)            306         dropout_1[0][0]                  \n",
      "==================================================================================================\n",
      "Total params: 40,032,392\n",
      "Trainable params: 32,292\n",
      "Non-trainable params: 40,000,100\n",
      "__________________________________________________________________________________________________\n"
     ]
    }
   ],
   "source": [
    "model = myModel((max_len,), word_to_vec_map, word_to_index)\n",
    "model.summary()"
   ]
  },
  {
   "cell_type": "code",
   "execution_count": 16,
   "metadata": {
    "scrolled": true
   },
   "outputs": [],
   "source": [
    "X_train_indices = sentences_to_indices(train['comment_text'], word_to_index, max_len)\n",
    "Y_train = train[class_names].values\n",
    "X_dev_indices = sentences_to_indices(dev['comment_text'], word_to_index, max_len)\n",
    "Y_dev = dev[class_names].values"
   ]
  },
  {
   "cell_type": "code",
   "execution_count": 17,
   "metadata": {},
   "outputs": [],
   "source": [
    "# If you want gradient clipping, put optimizer=adam_gradclip in the model.compile() call\n",
    "\n",
    "#from keras import optimizers\n",
    "#\n",
    "#adam_gradclip = optimizers.Adam(clipnorm = 1, clipvalue = 0.5)"
   ]
  },
  {
   "cell_type": "code",
   "execution_count": 18,
   "metadata": {},
   "outputs": [],
   "source": [
    "# model.compile(loss = 'categorical_crossentropy', optimizer='adam', metrics=['accuracy'])\n",
    "model.compile(loss='binary_crossentropy', optimizer='adam', metrics=['accuracy'])"
   ]
  },
  {
   "cell_type": "code",
   "execution_count": 19,
   "metadata": {},
   "outputs": [],
   "source": [
    "# if you want to save a model's configuration and weights, and train it further tomorrow:\n",
    "\n",
    "#from keras.models import load_model\n",
    "#model = load_model(\"11-model.h5\")"
   ]
  },
  {
   "cell_type": "markdown",
   "metadata": {},
   "source": [
    "# Up the batch size to use all GPU cores!"
   ]
  },
  {
   "cell_type": "markdown",
   "metadata": {},
   "source": [
    "### batch_size = 2048\n",
    "\n",
    "GPU utilization  85%\n",
    "\n",
    "53sec/epoch\n",
    "\n",
    "total wall time (5 epochs) 4min 30sec\n",
    "\n",
    "### batch_size = 4096\n",
    "\n",
    "GPU utilization 87-90%\n",
    "\n",
    "35sec/epoch\n",
    "\n",
    "total wall time (5 epochs) 2min 56sec"
   ]
  },
  {
   "cell_type": "code",
   "execution_count": 26,
   "metadata": {},
   "outputs": [
    {
     "name": "stdout",
     "output_type": "stream",
     "text": [
      "Epoch 1/10\n",
      "154571/154571 [==============================] - 35s 224us/step - loss: 0.0560 - acc: 0.9800\n",
      "Epoch 2/10\n",
      "154571/154571 [==============================] - 35s 224us/step - loss: 0.0556 - acc: 0.9802\n",
      "Epoch 3/10\n",
      "154571/154571 [==============================] - 35s 224us/step - loss: 0.0550 - acc: 0.9803\n",
      "Epoch 4/10\n",
      "154571/154571 [==============================] - 35s 224us/step - loss: 0.0547 - acc: 0.9805\n",
      "Epoch 5/10\n",
      "154571/154571 [==============================] - 35s 224us/step - loss: 0.0543 - acc: 0.9806\n",
      "Epoch 6/10\n",
      "154571/154571 [==============================] - 35s 224us/step - loss: 0.0538 - acc: 0.9808\n",
      "Epoch 7/10\n",
      "154571/154571 [==============================] - 35s 224us/step - loss: 0.0534 - acc: 0.9808\n",
      "Epoch 8/10\n",
      "154571/154571 [==============================] - 35s 224us/step - loss: 0.0532 - acc: 0.9808\n",
      "Epoch 9/10\n",
      "154571/154571 [==============================] - 35s 224us/step - loss: 0.0531 - acc: 0.9809\n",
      "Epoch 10/10\n",
      "154571/154571 [==============================] - 35s 224us/step - loss: 0.0524 - acc: 0.9811\n",
      "CPU times: user 5min 46s, sys: 1min 25s, total: 7min 12s\n",
      "Wall time: 5min 46s\n"
     ]
    }
   ],
   "source": [
    "%%time \n",
    "\n",
    "model.fit(X_train_indices, Y_train, epochs = 10, batch_size = 4096, shuffle=True)\n",
    "model.save(\"11-model.h5\")"
   ]
  },
  {
   "cell_type": "code",
   "execution_count": 27,
   "metadata": {},
   "outputs": [
    {
     "data": {
      "text/plain": [
       "0.9804495992549048"
      ]
     },
     "execution_count": 27,
     "metadata": {},
     "output_type": "execute_result"
    }
   ],
   "source": [
    "from sklearn import metrics\n",
    "\n",
    "m = 5000\n",
    "\n",
    "pred_train = model.predict(X_train_indices[0:m, :])  # train performance on first 5k samples only...\n",
    "aucs = np.zeros((len(class_names)))\n",
    "\n",
    "for y_i in range(len(class_names)):\n",
    "    y = Y_train[0:m, y_i]\n",
    "    yhat = pred_train[0:m, y_i]\n",
    "    fpr, tpr, thresholds = metrics.roc_curve(y, yhat, pos_label = 1)\n",
    "    this_auc = metrics.auc(fpr, tpr)\n",
    "    aucs[y_i] = this_auc\n",
    "    \n",
    "np.mean(aucs)"
   ]
  },
  {
   "cell_type": "markdown",
   "metadata": {},
   "source": [
    "GPU Glove 100 w/ dropout (batch size 4096), avg+max pooling concat'ed:\n",
    "\n",
    "- 5 Epochs: 0.946007807866916\n",
    "- 10: 0.9647018394257634\n",
    "- 20: 0.9764435124653218\n",
    "- 30: 0.9804495992549048\n",
    "\n",
    "CPU Glove 100 w/ dropout (batch size 512), avg+max pooling concat'ed:\n",
    "\n",
    "- 5 Epochs: 0.9813304560865536\n",
    "- 10: 0.9858895978606\n"
   ]
  },
  {
   "cell_type": "markdown",
   "metadata": {},
   "source": [
    "# Compute dev set mean AUC"
   ]
  },
  {
   "cell_type": "code",
   "execution_count": 28,
   "metadata": {},
   "outputs": [
    {
     "data": {
      "text/plain": [
       "0.9810237145941006"
      ]
     },
     "execution_count": 28,
     "metadata": {},
     "output_type": "execute_result"
    }
   ],
   "source": [
    "# %%time\n",
    "\n",
    "# model.evaluate(X_dev_indices, Y_dev, batch_size = len(train))\n",
    "pred_dev = model.predict(X_dev_indices)\n",
    "\n",
    "aucs = np.zeros((len(class_names)))\n",
    "\n",
    "for y_i in range(len(class_names)):\n",
    "    y = Y_dev[:, y_i]\n",
    "    yhat = pred_dev[:, y_i]\n",
    "    fpr, tpr, thresholds = metrics.roc_curve(y, yhat, pos_label = 1)\n",
    "    this_auc = metrics.auc(fpr, tpr)\n",
    "    aucs[y_i] = this_auc\n",
    "    \n",
    "np.mean(aucs)"
   ]
  },
  {
   "cell_type": "markdown",
   "metadata": {},
   "source": [
    "GPU Glove 100 w/ dropout (batch size 4096), avg+max pooling concat'ed:\n",
    "\n",
    "- 5: 0.938849160860439\n",
    "- 10: 0.9617743661464152\n",
    "- 20: 0.9757392806839182\n",
    "- 30: 0.9810237145941006\n",
    "\n",
    "CPU Glove 100 w/ dropout (batch size 512), avg+max pooling concat'ed:\n",
    "\n",
    "- 5: 0.9818096375442297\n",
    "- 10: 0.9868617031269369  # 0.9765 on kaggle"
   ]
  },
  {
   "cell_type": "markdown",
   "metadata": {},
   "source": [
    "# Sanity check train predictions"
   ]
  },
  {
   "cell_type": "code",
   "execution_count": 29,
   "metadata": {},
   "outputs": [],
   "source": [
    "pred = model.predict(X_train_indices[0:7, :])  # the 7th comment (in unshuffled train) is a very toxic doggo"
   ]
  },
  {
   "cell_type": "code",
   "execution_count": 30,
   "metadata": {},
   "outputs": [
    {
     "data": {
      "text/plain": [
       "array([[1.12801127e-03, 2.01574039e-06, 3.40407249e-04, 1.68826173e-05,\n",
       "        1.58078881e-04, 1.05438312e-05],\n",
       "       [8.59036576e-03, 1.17899262e-05, 1.14056678e-03, 6.66162741e-05,\n",
       "        1.31641165e-03, 7.25964928e-05],\n",
       "       [4.65280493e-04, 7.82757752e-08, 5.99020896e-05, 2.78784637e-06,\n",
       "        2.93973972e-05, 9.68194627e-07],\n",
       "       [5.89314674e-04, 1.12668644e-07, 6.74578550e-05, 3.63553113e-06,\n",
       "        5.60625085e-05, 1.08975030e-06],\n",
       "       [1.50705613e-02, 7.65925870e-06, 2.53840745e-03, 5.40783913e-05,\n",
       "        2.33510602e-03, 1.02269616e-04],\n",
       "       [1.06972991e-03, 4.07087924e-07, 1.65902369e-04, 1.60822729e-05,\n",
       "        9.64629653e-05, 3.51609128e-06],\n",
       "       [9.79930282e-01, 3.23228002e-01, 8.85371685e-01, 8.63350928e-02,\n",
       "        7.75630593e-01, 2.05526173e-01]], dtype=float32)"
      ]
     },
     "execution_count": 30,
     "metadata": {},
     "output_type": "execute_result"
    }
   ],
   "source": [
    "pred"
   ]
  },
  {
   "cell_type": "code",
   "execution_count": null,
   "metadata": {},
   "outputs": [],
   "source": []
  }
 ],
 "metadata": {
  "kernelspec": {
   "display_name": "Python 3",
   "language": "python",
   "name": "python3"
  },
  "language_info": {
   "codemirror_mode": {
    "name": "ipython",
    "version": 2
   },
   "file_extension": ".py",
   "mimetype": "text/x-python",
   "name": "python",
   "nbconvert_exporter": "python",
   "pygments_lexer": "ipython2",
   "version": "2.7.14"
  }
 },
 "nbformat": 4,
 "nbformat_minor": 2
}
