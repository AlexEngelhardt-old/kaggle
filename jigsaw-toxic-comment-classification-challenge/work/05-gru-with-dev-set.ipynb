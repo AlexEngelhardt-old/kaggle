{
 "cells": [
  {
   "cell_type": "code",
   "execution_count": 1,
   "metadata": {
    "collapsed": true
   },
   "outputs": [],
   "source": [
    "import numpy as np\n",
    "import pandas as pd\n",
    "from preprocess import preprocess  # local file. restart kernel if this changed, it won't be re-imported otherwise\n",
    "from sklearn.model_selection import train_test_split\n",
    "\n",
    "## Read the first few rows during crude developing:\n",
    "#train = pd.read_csv('../data/train.csv', nrows=10000).fillna(' ')  # train has 159571 comments\n",
    "#test = pd.read_csv('../data/test.csv', nrows=100).fillna(' ')\n",
    "\n",
    "## These lines load all data:\n",
    "train = pd.read_csv('../data/train.csv').fillna(' ')\n",
    "test = pd.read_csv('../data/test.csv').fillna(' ')\n",
    "\n",
    "[train, test, train_text, test_text, all_text, class_names] = preprocess(train, test)\n",
    "\n",
    "# Remove 80% of the train set's comments that are all-ok to counter the imbalancedness a bit\n",
    "#delete_idx = (train[class_names].sum(axis = 1) == 0) & (np.random.rand(len(train)) > 0.2)\n",
    "#keep_idx = ~delete_idx  # elem-wise NOT for pd.Series\n",
    "#train = train[keep_idx]"
   ]
  },
  {
   "cell_type": "code",
   "execution_count": 2,
   "metadata": {
    "collapsed": true
   },
   "outputs": [],
   "source": [
    "# I want a fixed 5000 observations in the test set. Adapt the fraction accordingly:\n",
    "test_fraction = 5000 / len(train)\n",
    "\n",
    "train, dev = train_test_split(train, test_size=test_fraction, random_state=42)\n",
    "# Reset indices because they were shuffled and I need them from 0 to len()\n",
    "train.index = list(range(len(train)))\n",
    "dev.index = list(range(len(dev)))"
   ]
  },
  {
   "cell_type": "code",
   "execution_count": 3,
   "metadata": {
    "collapsed": true
   },
   "outputs": [],
   "source": [
    "# either:\n",
    "#max_len_train = train['comment_text'].str.split().apply(len).max()\n",
    "#max_len_test = test['comment_text'].str.split().apply(len).max()\n",
    "#max_len = max(max_len_train, max_len_test)\n",
    "\n",
    "# or:\n",
    "max_len = 200  # that might work to have shorter LSTM cells"
   ]
  },
  {
   "cell_type": "code",
   "execution_count": 4,
   "metadata": {},
   "outputs": [
    {
     "name": "stderr",
     "output_type": "stream",
     "text": [
      "Using TensorFlow backend.\n"
     ]
    }
   ],
   "source": [
    "from keras.models import Model\n",
    "from keras.layers import Dense, Input, Dropout, LSTM, GRU, Activation\n",
    "from keras.layers.embeddings import Embedding\n",
    "from keras.preprocessing import sequence\n",
    "from keras.initializers import glorot_uniform"
   ]
  },
  {
   "cell_type": "code",
   "execution_count": 6,
   "metadata": {
    "collapsed": true
   },
   "outputs": [],
   "source": [
    "# set number of cores to 8\n",
    "from keras import backend as K\n",
    "import tensorflow as tf\n",
    "\n",
    "config = tf.ConfigProto(intra_op_parallelism_threads=8,\n",
    "                        inter_op_parallelism_threads=8,\n",
    "                        allow_soft_placement=True, \n",
    "                        device_count = {'CPU': 8})\n",
    "session = tf.Session(config=config)\n",
    "K.set_session(session)"
   ]
  },
  {
   "cell_type": "code",
   "execution_count": 7,
   "metadata": {
    "collapsed": true
   },
   "outputs": [],
   "source": [
    "def read_glove_vecs(glove_file):\n",
    "    with open(glove_file, 'r') as f:\n",
    "        words = set()\n",
    "        word_to_vec_map = {}\n",
    "        for line in f:\n",
    "            line = line.strip().split()\n",
    "            curr_word = line[0]\n",
    "            words.add(curr_word)\n",
    "            word_to_vec_map[curr_word] = np.array(line[1:], dtype=np.float64)\n",
    "        \n",
    "        i = 1\n",
    "        words_to_index = {}\n",
    "        index_to_words = {}\n",
    "        for w in sorted(words):\n",
    "            words_to_index[w] = i\n",
    "            index_to_words[i] = w\n",
    "            i = i + 1\n",
    "    return words_to_index, index_to_words, word_to_vec_map"
   ]
  },
  {
   "cell_type": "code",
   "execution_count": 8,
   "metadata": {
    "collapsed": true
   },
   "outputs": [],
   "source": [
    "word_to_index, index_to_word, word_to_vec_map = read_glove_vecs('../data/glove.6B.50d.txt')"
   ]
  },
  {
   "cell_type": "code",
   "execution_count": 9,
   "metadata": {
    "collapsed": true
   },
   "outputs": [],
   "source": [
    "import re\n",
    "\n",
    "def sentences_to_indices(X, word_to_index, max_len):\n",
    "    \"\"\"\n",
    "    Converts an array of sentences (strings) into an array of indices corresponding to words in the sentences.\n",
    "    The output shape should be such that it can be given to `Embedding()` (described in Figure 4). \n",
    "    \n",
    "    Arguments:\n",
    "    X -- array of sentences (strings), of shape (m, 1)\n",
    "    word_to_index -- a dictionary containing the each word mapped to its index\n",
    "    max_len -- maximum number of words in a sentence. You can assume every sentence in X is no longer than this. \n",
    "    \n",
    "    Returns:\n",
    "    X_indices -- array of indices corresponding to words in the sentences from X, of shape (m, max_len)\n",
    "    \"\"\"\n",
    "    \n",
    "    m = X.shape[0]                                   # number of training examples\n",
    "    \n",
    "    ### START CODE HERE ###\n",
    "    # Initialize X_indices as a numpy matrix of zeros and the correct shape (≈ 1 line)\n",
    "    X_indices = np.zeros((m, max_len))\n",
    "    \n",
    "    for i in range(m):                               # loop over training examples\n",
    "        \n",
    "        # Convert the ith training sentence in lower case and split is into words. You should get a list of words.\n",
    "        sentence_words = re.sub(r\"\\W\", \" \", X[i]).lower().split()\n",
    "\n",
    "        n_words = len(sentence_words)\n",
    "        \n",
    "        if n_words > max_len:  # use the *beginning* of the comment if it's too long\n",
    "            sentence_words = sentence_words[0:max_len]\n",
    "            n_words = max_len\n",
    "\n",
    "        ctr = 0\n",
    "        # Loop over the words of sentence_words\n",
    "        for w in sentence_words:\n",
    "            j = max_len - n_words + ctr \n",
    "            \n",
    "            if w in word_to_index:\n",
    "                # pad sequences from the left, i.e. start so the \"last\" word in the comment is the max_len'th entry.\n",
    "                X_indices[i, j] = word_to_index[w]\n",
    "                \n",
    "            ctr += 1\n",
    "            \n",
    "            if j >= max_len:  \n",
    "                # adding this clause, you can have sentences longer than max_len and crop them\n",
    "                break\n",
    "            \n",
    "    ### END CODE HERE ###\n",
    "    \n",
    "    return X_indices"
   ]
  },
  {
   "cell_type": "code",
   "execution_count": 10,
   "metadata": {
    "collapsed": true
   },
   "outputs": [],
   "source": [
    "def pretrained_embedding_layer(word_to_vec_map, word_to_index):\n",
    "    \"\"\"\n",
    "    Creates a Keras Embedding() layer and loads in pre-trained GloVe 50-dimensional vectors.\n",
    "    \n",
    "    Arguments:\n",
    "    word_to_vec_map -- dictionary mapping words to their GloVe vector representation.\n",
    "    word_to_index -- dictionary mapping from words to their indices in the vocabulary (400,001 words)\n",
    "\n",
    "    Returns:\n",
    "    embedding_layer -- pretrained layer Keras instance\n",
    "    \"\"\"\n",
    "    \n",
    "    vocab_len = len(word_to_index) + 1                  # adding 1 to fit Keras embedding (requirement)\n",
    "    emb_dim = word_to_vec_map[\"cucumber\"].shape[0]      # define dimensionality of your GloVe word vectors (= 50)\n",
    "    \n",
    "    ### START CODE HERE ###\n",
    "    # Initialize the embedding matrix as a numpy array of zeros of shape (vocab_len, dimensions of word vectors = emb_dim)\n",
    "    emb_matrix = np.zeros((vocab_len, emb_dim))\n",
    "    \n",
    "    # Set each row \"index\" of the embedding matrix to be the word vector representation of the \"index\"th word of the vocabulary\n",
    "    for word, index in word_to_index.items():\n",
    "        emb_matrix[index, :] = word_to_vec_map[word]\n",
    "\n",
    "    # Define Keras embedding layer with the correct output/input sizes, make it trainable. Use Embedding(...). Make sure to set trainable=False. \n",
    "    embedding_layer = Embedding(vocab_len, emb_dim, trainable = False)#, mask_zero = True)\n",
    "    ### END CODE HERE ###\n",
    "\n",
    "    # Build the embedding layer, it is required before setting the weights of the embedding layer. Do not modify the \"None\".\n",
    "    embedding_layer.build((None,))\n",
    "    \n",
    "    # Set the weights of the embedding layer to the embedding matrix. Your layer is now pretrained.\n",
    "    embedding_layer.set_weights([emb_matrix])\n",
    "    \n",
    "    return embedding_layer"
   ]
  },
  {
   "cell_type": "code",
   "execution_count": 11,
   "metadata": {
    "collapsed": true
   },
   "outputs": [],
   "source": [
    "embedding_layer = pretrained_embedding_layer(word_to_vec_map, word_to_index)"
   ]
  },
  {
   "cell_type": "code",
   "execution_count": 12,
   "metadata": {
    "collapsed": true
   },
   "outputs": [],
   "source": [
    "def myModel(input_shape, word_to_vec_map, word_to_index):\n",
    "    \"\"\"\n",
    "    Function creating the Emojify-v2 model's graph.\n",
    "    \n",
    "    Arguments:\n",
    "    input_shape -- shape of the input, usually (max_len,)\n",
    "    word_to_vec_map -- dictionary mapping every word in a vocabulary into its 50-dimensional vector representation\n",
    "    word_to_index -- dictionary mapping from words to their indices in the vocabulary (400,001 words)\n",
    "\n",
    "    Returns:\n",
    "    model -- a model instance in Keras\n",
    "    \"\"\"\n",
    "    \n",
    "    # Define sentence_indices as the input of the graph, it should be of shape input_shape and dtype 'int32' (as it contains indices).\n",
    "    sentence_indices = Input(shape = input_shape, dtype = 'int32')\n",
    "    \n",
    "    # Create the embedding layer pretrained with GloVe Vectors (≈1 line)\n",
    "    #embedding_layer = pretrained_embedding_layer(word_to_vec_map, word_to_index)\n",
    "    \n",
    "    # Propagate sentence_indices through your embedding layer, you get back the embeddings\n",
    "    X = embedding_layer(sentence_indices)   \n",
    "    # Or use a trainable embedding layer:\n",
    "    #embed_size = 128\n",
    "    #max_features = input_shape[0]\n",
    "    #X = Embedding(len(word_to_index), embed_size)(sentence_indices)\n",
    "    \n",
    "    \n",
    "    # Propagate the embeddings through an LSTM layer with 128-dimensional hidden state\n",
    "    # Be careful, the returned output should be a batch of sequences.\n",
    "    #X = LSTM(units = 64, return_sequences = True)(X)\n",
    "    X = GRU(units = 64, activation = 'relu', return_sequences = True)(X)\n",
    "    # Add dropout with a probability of 0.5\n",
    "    X = Dropout(rate = 0.5)(X)\n",
    "    # Propagate X trough another LSTM layer with 128-dimensional hidden state\n",
    "    # Be careful, the returned output should be a single hidden state, not a batch of sequences.\n",
    "    #X = LSTM(units = 64)(X)\n",
    "    X = GRU(units = 64, activation = 'relu')(X)\n",
    "    # Add dropout with a probability of 0.5\n",
    "    X = Dropout(rate = 0.5)(X)\n",
    "    # Propagate X through a Dense layer with softmax activation to get back a batch of 5-dimensional vectors.\n",
    "    X = Dense(units = 6, activation = 'sigmoid')(X)\n",
    "    # Add a softmax activation\n",
    "    #X = Activation(\"softmax\")(X)\n",
    "    \n",
    "    # Create Model instance which converts sentence_indices into X.\n",
    "    model = Model(inputs = sentence_indices, outputs = X)\n",
    "    \n",
    "    return model"
   ]
  },
  {
   "cell_type": "code",
   "execution_count": 13,
   "metadata": {},
   "outputs": [
    {
     "name": "stdout",
     "output_type": "stream",
     "text": [
      "_________________________________________________________________\n",
      "Layer (type)                 Output Shape              Param #   \n",
      "=================================================================\n",
      "input_1 (InputLayer)         (None, 200)               0         \n",
      "_________________________________________________________________\n",
      "embedding_1 (Embedding)      (None, 200, 50)           20000050  \n",
      "_________________________________________________________________\n",
      "gru_1 (GRU)                  (None, 200, 64)           22080     \n",
      "_________________________________________________________________\n",
      "dropout_1 (Dropout)          (None, 200, 64)           0         \n",
      "_________________________________________________________________\n",
      "gru_2 (GRU)                  (None, 64)                24768     \n",
      "_________________________________________________________________\n",
      "dropout_2 (Dropout)          (None, 64)                0         \n",
      "_________________________________________________________________\n",
      "dense_1 (Dense)              (None, 6)                 390       \n",
      "=================================================================\n",
      "Total params: 20,047,288\n",
      "Trainable params: 47,238\n",
      "Non-trainable params: 20,000,050\n",
      "_________________________________________________________________\n"
     ]
    }
   ],
   "source": [
    "model = myModel((max_len,), word_to_vec_map, word_to_index)\n",
    "model.summary()"
   ]
  },
  {
   "cell_type": "code",
   "execution_count": 14,
   "metadata": {
    "collapsed": true,
    "scrolled": true
   },
   "outputs": [],
   "source": [
    "X_train_indices = sentences_to_indices(train['comment_text'], word_to_index, max_len)\n",
    "Y_train = train[class_names].values\n",
    "X_dev_indices = sentences_to_indices(dev['comment_text'], word_to_index, max_len)\n",
    "Y_dev = dev[class_names].values"
   ]
  },
  {
   "cell_type": "markdown",
   "metadata": {},
   "source": [
    "## Waarschuwing\n",
    "\n",
    "If you pad your sequences from the right instead the left, the model outputs same predictions for each sample!\n",
    "\n",
    "There might be a vanishing gradients problem?"
   ]
  },
  {
   "cell_type": "code",
   "execution_count": 15,
   "metadata": {
    "collapsed": true,
    "scrolled": true
   },
   "outputs": [],
   "source": [
    "# # their tokenizer (creates its own indices though, that don't fit with the GloVe embedding)\n",
    "\n",
    "# from keras.preprocessing.text import Tokenizer\n",
    "# from keras.preprocessing.sequence import pad_sequences\n",
    "\n",
    "\n",
    "# #max_features = 20000\n",
    "# max_features = 400000\n",
    "\n",
    "# tokenizer = Tokenizer(num_words=max_features)\n",
    "# tokenizer.fit_on_texts(list(train['comment_text']))\n",
    "# list_tokenized_train = tokenizer.texts_to_sequences(train['comment_text'])\n",
    "# list_tokenized_test = tokenizer.texts_to_sequences(test['comment_text'])\n",
    "# maxlen = 200\n",
    "# X_train_indices = pad_sequences(list_tokenized_train, maxlen=maxlen, padding = 'pre')\n",
    "# X_test_indices = pad_sequences(list_tokenized_test, maxlen=maxlen)\n",
    "\n",
    "# X_train_indices[0]"
   ]
  },
  {
   "cell_type": "code",
   "execution_count": 16,
   "metadata": {
    "collapsed": true
   },
   "outputs": [],
   "source": [
    "# model.compile(loss = 'categorical_crossentropy', optimizer='adam', metrics=['accuracy'])\n",
    "model.compile(loss='binary_crossentropy', optimizer='adam', metrics=['accuracy'])"
   ]
  },
  {
   "cell_type": "code",
   "execution_count": 17,
   "metadata": {
    "collapsed": true
   },
   "outputs": [],
   "source": [
    "# if you want to save a model's configuration and weights, and train it further tomorrow:\n",
    "\n",
    "from keras.models import load_model\n",
    "model = load_model(\"model.h5\")"
   ]
  },
  {
   "cell_type": "code",
   "execution_count": 22,
   "metadata": {},
   "outputs": [
    {
     "name": "stdout",
     "output_type": "stream",
     "text": [
      "Epoch 1/1\n",
      "154571/154571 [==============================] - 992s 6ms/step - loss: 0.0491 - acc: 0.9819\n"
     ]
    }
   ],
   "source": [
    "model.fit(X_train_indices, Y_train, epochs = 1, batch_size = 32, shuffle=True)\n",
    "model.save(\"model.h5\")"
   ]
  },
  {
   "cell_type": "code",
   "execution_count": 23,
   "metadata": {},
   "outputs": [
    {
     "data": {
      "text/plain": [
       "0.9817428573317365"
      ]
     },
     "execution_count": 23,
     "metadata": {},
     "output_type": "execute_result"
    }
   ],
   "source": [
    "from sklearn import metrics\n",
    "\n",
    "m = 5000\n",
    "\n",
    "pred_train = model.predict(X_train_indices[0:m, :])  # train performance on first 5k samples only...\n",
    "aucs = np.zeros((len(class_names)))\n",
    "\n",
    "for y_i in range(len(class_names)):\n",
    "    y = Y_train[0:m, y_i]\n",
    "    yhat = pred_train[0:m, y_i]\n",
    "    fpr, tpr, thresholds = metrics.roc_curve(y, yhat, pos_label = 1)\n",
    "    this_auc = metrics.auc(fpr, tpr)\n",
    "    aucs[y_i] = this_auc\n",
    "    \n",
    "np.mean(aucs)"
   ]
  },
  {
   "cell_type": "markdown",
   "metadata": {},
   "source": [
    "Full run:\n",
    "\n",
    "- 1 epoch: 0.9736336497266845\n",
    "- 2: 0.9781197423330473\n",
    "- 3: 0.97905527279464\n",
    "- 4: 0.98204404\n",
    "- 5: 0.98174285  # what?!"
   ]
  },
  {
   "cell_type": "markdown",
   "metadata": {},
   "source": [
    "# Compute dev set mean AUC"
   ]
  },
  {
   "cell_type": "code",
   "execution_count": 24,
   "metadata": {},
   "outputs": [
    {
     "name": "stdout",
     "output_type": "stream",
     "text": [
      "CPU times: user 26.7 s, sys: 128 ms, total: 26.8 s\n",
      "Wall time: 5.75 s\n"
     ]
    }
   ],
   "source": [
    "%%time\n",
    "\n",
    "# model.evaluate(X_dev_indices, Y_dev, batch_size = len(train))\n",
    "pred_dev = model.predict(X_dev_indices)"
   ]
  },
  {
   "cell_type": "code",
   "execution_count": 25,
   "metadata": {},
   "outputs": [
    {
     "data": {
      "text/plain": [
       "0.9794150093730369"
      ]
     },
     "execution_count": 25,
     "metadata": {},
     "output_type": "execute_result"
    }
   ],
   "source": [
    "aucs = np.zeros((len(class_names)))\n",
    "\n",
    "for y_i in range(len(class_names)):\n",
    "    y = Y_dev[:, y_i]\n",
    "    yhat = pred_dev[:, y_i]\n",
    "    fpr, tpr, thresholds = metrics.roc_curve(y, yhat, pos_label = 1)\n",
    "    this_auc = metrics.auc(fpr, tpr)\n",
    "    aucs[y_i] = this_auc\n",
    "    \n",
    "np.mean(aucs)"
   ]
  },
  {
   "cell_type": "markdown",
   "metadata": {},
   "source": [
    "Full run:\n",
    "\n",
    "- 1 epoch: 0.9703012393354168\n",
    "- 2: 0.9765675792693981\n",
    "- 3: 0.9765301394975352  # kaggle submission: 0.9676 :(\n",
    "- 4: 0.977707\n",
    "- 5: 0.979415"
   ]
  },
  {
   "cell_type": "markdown",
   "metadata": {},
   "source": [
    "# Sanity check train predictions"
   ]
  },
  {
   "cell_type": "code",
   "execution_count": 25,
   "metadata": {
    "collapsed": true
   },
   "outputs": [],
   "source": [
    "pred = model.predict(X_train_indices[0:7, :])  # the 7th comment (in unshuffled train) is a very toxic doggo"
   ]
  },
  {
   "cell_type": "code",
   "execution_count": 26,
   "metadata": {},
   "outputs": [
    {
     "data": {
      "text/plain": [
       "array([[6.3497241e-04, 1.4876262e-09, 3.9197319e-05, 6.5515977e-08,\n",
       "        3.1774027e-05, 7.7998777e-07],\n",
       "       [1.3203488e-03, 1.2483348e-09, 5.7818586e-05, 4.6398277e-08,\n",
       "        4.8434984e-05, 1.0442246e-06],\n",
       "       [6.1643816e-04, 3.1910000e-10, 1.8953759e-05, 7.3298008e-09,\n",
       "        1.7444301e-05, 2.0307276e-07],\n",
       "       [5.0278148e-04, 3.2158740e-10, 1.5368229e-05, 1.2597208e-08,\n",
       "        1.2031453e-05, 1.9660762e-07],\n",
       "       [1.0031880e-01, 2.6487714e-05, 1.6511204e-02, 1.2358227e-04,\n",
       "        1.4168523e-02, 9.5172826e-04],\n",
       "       [6.9022202e-04, 7.9367757e-10, 2.7619690e-05, 2.4291433e-08,\n",
       "        2.0929217e-05, 3.7219368e-07],\n",
       "       [9.2507827e-01, 2.0645539e-01, 7.3372906e-01, 8.5256480e-02,\n",
       "        6.2058413e-01, 2.2601873e-01]], dtype=float32)"
      ]
     },
     "execution_count": 26,
     "metadata": {},
     "output_type": "execute_result"
    }
   ],
   "source": [
    "pred"
   ]
  },
  {
   "cell_type": "markdown",
   "metadata": {},
   "source": [
    "# Create submission csv"
   ]
  },
  {
   "cell_type": "code",
   "execution_count": 26,
   "metadata": {
    "collapsed": true
   },
   "outputs": [],
   "source": [
    "X_test_indices = sentences_to_indices(test['comment_text'], word_to_index, max_len)\n",
    "pred = model.predict(X_test_indices)\n",
    "submit = pd.DataFrame(test['id'].values, columns=['id'])\n",
    "preds = pd.DataFrame(pred, columns=class_names)\n",
    "submit = pd.concat([submit, preds], axis = 1)\n",
    "#submit\n",
    "submit.to_csv('../data/submission_04.csv', index = False)"
   ]
  },
  {
   "cell_type": "code",
   "execution_count": null,
   "metadata": {
    "collapsed": true
   },
   "outputs": [],
   "source": []
  }
 ],
 "metadata": {
  "kernelspec": {
   "display_name": "Python 3",
   "language": "python",
   "name": "python3"
  },
  "language_info": {
   "codemirror_mode": {
    "name": "ipython",
    "version": 3
   },
   "file_extension": ".py",
   "mimetype": "text/x-python",
   "name": "python",
   "nbconvert_exporter": "python",
   "pygments_lexer": "ipython3",
   "version": "3.6.4"
  }
 },
 "nbformat": 4,
 "nbformat_minor": 2
}
